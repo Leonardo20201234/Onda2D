{
  "metadata": {
    "kernelspec": {
      "name": "python",
      "display_name": "Python (Pyodide)",
      "language": "python"
    },
    "language_info": {
      "codemirror_mode": {
        "name": "python",
        "version": 3
      },
      "file_extension": ".py",
      "mimetype": "text/x-python",
      "name": "python",
      "nbconvert_exporter": "python",
      "pygments_lexer": "ipython3",
      "version": "3.8"
    }
  },
  "nbformat_minor": 4,
  "nbformat": 4,
  "cells": [
    {
      "cell_type": "code",
      "source": "from sympy import symbols, integrate, lambdify, sin, cos, exp, pi\nimport numpy as np\nimport matplotlib.pyplot as plt\n\n#Condiciones iniciales \n#ux(0,y,t) = 0, ux(a,y,t) = 0\n#u(x,0,t) = 0, u(x,b,t) = 0\ndef f(x,y):\n    return (x-a)**2+(y-b)**2\n\n    \ndef onda2D(a, b, itera, k, t):\n    x,y = symbols('x y')\n    u = 0\n    for n in range(1,itera+1):\n        u1 = (2/(a*b)) * integrate(f(x,y)* sin(n*pi*y/b),(x,0,a),(y,0,b))*exp(-(n**2/b**2)*pi*2*k*t)*sin(n*pi*y/b)\n        u += u1\n    for m in range(1,itera+1):\n        for n in range(1,itera+1):\n            Bmn = (4/(a*b))* integrate(f(x,y)* sin(n*pi*y/b)* cos(m*pi*x/a),(x,0,a),(y,0,b))\n            u2 = Bmn*exp(-(m*2/a**2+n**2/b**2)*pi*2*k*t)*sin(n*pi*y/b)*cos(m*pi*x/a)\n            u += u2\n    funcion = lambdify((x, y),u, 'numpy')\n    return funcion\n\na= 1\nb = a\nk = 1\nt = 0\nitera = 5\nx = np.linspace(0,a,100)\ny = np.linspace(0,b,100)\nX, Y = np.meshgrid(x, y)\nonda = onda2D(a,b,itera,k,t)\nZ = onda\n\n\nplt.contourf(Z, cmap='viridis')\nplt.colorbar()\nplt.xlabel('x')\nplt.ylabel('y')\nplt.title('Onda de calor en t=0')\nplt.show()",
      "metadata": {
        "trusted": true
      },
      "outputs": [],
      "execution_count": null
    },
    {
      "cell_type": "code",
      "source": "",
      "metadata": {
        "trusted": true
      },
      "outputs": [],
      "execution_count": null
    }
  ]
}